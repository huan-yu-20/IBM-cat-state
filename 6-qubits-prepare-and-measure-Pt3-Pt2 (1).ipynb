{
 "cells": [
  {
   "cell_type": "code",
   "execution_count": 2,
   "metadata": {},
   "outputs": [],
   "source": [
    "from qiskit import QuantumCircuit, QuantumRegister, ClassicalRegister\n",
    "from qiskit import execute, IBMQ, Aer"
   ]
  },
  {
   "cell_type": "code",
   "execution_count": 3,
   "metadata": {},
   "outputs": [],
   "source": [
    "from qiskit.tools.monitor import backend_monitor"
   ]
  },
  {
   "cell_type": "code",
   "execution_count": 4,
   "metadata": {
    "collapsed": true
   },
   "outputs": [],
   "source": [
    "APItoken='your APItoken'"
   ]
  },
  {
   "cell_type": "code",
   "execution_count": 6,
   "metadata": {
    "collapsed": true
   },
   "outputs": [],
   "source": [
    "IBMQ.enable_account('APItoken')\n",
    "#enable your account"
   ]
  },
  {
   "cell_type": "code",
   "execution_count": 5,
   "metadata": {},
   "outputs": [
    {
     "data": {
      "text/plain": [
       "[<IBMQBackend('ibmqx4') from IBMQ()>,\n",
       " <IBMQBackend('ibmq_16_melbourne') from IBMQ()>]"
      ]
     },
     "execution_count": 5,
     "metadata": {},
     "output_type": "execute_result"
    }
   ],
   "source": [
    "provider= IBMQ.get_provider()\n",
    "provider.backends()\n",
    "#get provider first"
   ]
  },
  {
   "cell_type": "code",
   "execution_count": 7,
   "metadata": {
    "collapsed": true
   },
   "outputs": [],
   "source": [
    "backend=provider.get_backend('ibmq_16_melbourne')\n",
    "#choose the backend"
   ]
  },
  {
   "cell_type": "code",
   "execution_count": 51,
   "metadata": {
    "collapsed": true
   },
   "outputs": [],
   "source": [
    "simulator=IBMQ.get_backend('ibmq_qasm_simulator')"
   ]
  },
  {
   "cell_type": "markdown",
   "metadata": {},
   "source": [
    "## Obtaining the Pt3 for the quantum witness"
   ]
  },
  {
   "cell_type": "code",
   "execution_count": 8,
   "metadata": {
    "collapsed": true
   },
   "outputs": [],
   "source": [
    "def measure6_t3(t):\n",
    "    q=QuantumRegister(7)\n",
    "    c=ClassicalRegister(6)\n",
    "    qc=QuantumCircuit(q,c)\n",
    "    qc.h(q[1])\n",
    "    qc.cx(q[1],q[2])\n",
    "    qc.cx(q[2],q[3])\n",
    "    qc.cx(q[3],q[4])\n",
    "    qc.cx(q[4],q[5])\n",
    "    qc.cx(q[5],q[6])\n",
    "    #produce the GHZ state\n",
    "    qc.barrier()\n",
    "    # If we don't add the barrier, IBM Q will automatically combine the UU^{dagger}=I . \n",
    "    # And the IBM would not perform the real processing\n",
    "    qc.cx(q[5],q[6])\n",
    "    qc.cx(q[4],q[5])\n",
    "    qc.cx(q[3],q[4])\n",
    "    qc.cx(q[2],q[3])\n",
    "    qc.cx(q[1],q[2])\n",
    "    qc.h(q[1])\n",
    "    \n",
    "    qc.measure(q[1],c[0])\n",
    "    qc.measure(q[2],c[1])\n",
    "    qc.measure(q[3],c[2])\n",
    "    qc.measure(q[4],c[3])\n",
    "    qc.measure(q[5],c[4])\n",
    "    qc.measure(q[6],c[5])\n",
    "    #assign the number of each qubits\n",
    "    return qc"
   ]
  },
  {
   "cell_type": "code",
   "execution_count": 11,
   "metadata": {
    "collapsed": true
   },
   "outputs": [],
   "source": [
    "job=execute(measure6_t3(0),simulator,shots=8192)"
   ]
  },
  {
   "cell_type": "raw",
   "metadata": {},
   "source": [
    "2019/2/27"
   ]
  },
  {
   "cell_type": "markdown",
   "metadata": {},
   "source": [
    "## The quantum circuit to obtain the pt2 in prepare-and-measure scenario."
   ]
  },
  {
   "cell_type": "code",
   "execution_count": 10,
   "metadata": {
    "collapsed": true
   },
   "outputs": [],
   "source": [
    "#to check that which state the system will go to in the middle of the process\n",
    "def Pt2(t):\n",
    "    q=QuantumRegister(7)\n",
    "    c=ClassicalRegister(6)\n",
    "    qc=QuantumCircuit(q,c)\n",
    "    qc.h(q[1])\n",
    "    qc.cx(q[1],q[2])\n",
    "    qc.cx(q[2],q[3])\n",
    "    qc.cx(q[3],q[4])\n",
    "    qc.cx(q[4],q[5])\n",
    "    qc.cx(q[5],q[6])\n",
    "    #produce the GHZ state\n",
    "    qc.measure(q[1],c[0])\n",
    "    qc.measure(q[2],c[1])\n",
    "    qc.measure(q[3],c[2])\n",
    "    qc.measure(q[4],c[3])\n",
    "    qc.measure(q[5],c[4])\n",
    "    qc.measure(q[6],c[5])\n",
    "    #assign the number of each qubits\n",
    "    return qc"
   ]
  },
  {
   "cell_type": "markdown",
   "metadata": {},
   "source": [
    "## The usefulness of t is making the circuit run 10 times in a loop"
   ]
  },
  {
   "cell_type": "code",
   "execution_count": null,
   "metadata": {
    "collapsed": true
   },
   "outputs": [],
   "source": [
    "for t in range:\n",
    "    job=execute(P_t2(t),backend,shots=8192)\n",
    "    #10 datas and each one run 8192 times\n",
    "    print(job.result().get_counts())"
   ]
  },
  {
   "cell_type": "markdown",
   "metadata": {},
   "source": [
    "# Find the state whose probability(from the result of Pt2) is larger than 0.01 "
   ]
  },
  {
   "cell_type": "code",
   "execution_count": 4,
   "metadata": {},
   "outputs": [],
   "source": [
    "import copy\n",
    "def pick_t2(g):\n",
    "    f=copy.deepcopy(g)\n",
    "    # g = the result of Pt2\n",
    "    state=[]\n",
    "    for key in f.keys():\n",
    "        f[key] = f[key]/8192\n",
    "        if f[key] >= 0.01:\n",
    "            state.append(key)\n",
    "            #pick the state that its probability is greater than 0.01\n",
    "    return(state)"
   ]
  },
  {
   "cell_type": "markdown",
   "metadata": {},
   "source": [
    "# Example"
   ]
  },
  {
   "cell_type": "code",
   "execution_count": 5,
   "metadata": {},
   "outputs": [],
   "source": [
    "f={'101100': 67, '010010': 167, '001110': 131, '100110': 60, '101000': 83, '000010': 245, '111111': 27, '010000': 374, '111101': 44, '001001': 204, '111011': 40, '011111': 66, '011110': 95, '101101': 60, '010110': 146, '000110': 256, '110111': 38, '011100': 130, '100101': 63, '101110': 45, '000100': 273, '000001': 543, '010001': 297, '011101': 121, '010011': 166, '100011': 69, '000000': 668, '010111': 101, '110101': 36, '111001': 52, '110100': 52, '001011': 143, '110011': 43, '001111': 120, '000101': 190, '100001': 135, '101011': 39, '111000': 50, '001100': 173, '010100': 161, '101111': 35, '110000': 88, '001101': 154, '100000': 145, '001000': 200, '111100': 42, '011011': 95, '111010': 27, '011001': 143, '011010': 121, '010101': 145, '110110': 53, '101001': 64, '110001': 76, '011000': 145, '111110': 40, '100111': 62, '100010': 59, '110010': 50, '000111': 215, '101010': 50, '100100': 66, '001010': 148, '000011': 196}"
   ]
  },
  {
   "cell_type": "code",
   "execution_count": 6,
   "metadata": {},
   "outputs": [
    {
     "data": {
      "text/plain": [
       "{'101100': 67,\n",
       " '010010': 167,\n",
       " '001110': 131,\n",
       " '100110': 60,\n",
       " '101000': 83,\n",
       " '000010': 245,\n",
       " '111111': 27,\n",
       " '010000': 374,\n",
       " '111101': 44,\n",
       " '001001': 204,\n",
       " '111011': 40,\n",
       " '011111': 66,\n",
       " '011110': 95,\n",
       " '101101': 60,\n",
       " '010110': 146,\n",
       " '000110': 256,\n",
       " '110111': 38,\n",
       " '011100': 130,\n",
       " '100101': 63,\n",
       " '101110': 45,\n",
       " '000100': 273,\n",
       " '000001': 543,\n",
       " '010001': 297,\n",
       " '011101': 121,\n",
       " '010011': 166,\n",
       " '100011': 69,\n",
       " '000000': 668,\n",
       " '010111': 101,\n",
       " '110101': 36,\n",
       " '111001': 52,\n",
       " '110100': 52,\n",
       " '001011': 143,\n",
       " '110011': 43,\n",
       " '001111': 120,\n",
       " '000101': 190,\n",
       " '100001': 135,\n",
       " '101011': 39,\n",
       " '111000': 50,\n",
       " '001100': 173,\n",
       " '010100': 161,\n",
       " '101111': 35,\n",
       " '110000': 88,\n",
       " '001101': 154,\n",
       " '100000': 145,\n",
       " '001000': 200,\n",
       " '111100': 42,\n",
       " '011011': 95,\n",
       " '111010': 27,\n",
       " '011001': 143,\n",
       " '011010': 121,\n",
       " '010101': 145,\n",
       " '110110': 53,\n",
       " '101001': 64,\n",
       " '110001': 76,\n",
       " '011000': 145,\n",
       " '111110': 40,\n",
       " '100111': 62,\n",
       " '100010': 59,\n",
       " '110010': 50,\n",
       " '000111': 215,\n",
       " '101010': 50,\n",
       " '100100': 66,\n",
       " '001010': 148,\n",
       " '000011': 196}"
      ]
     },
     "execution_count": 6,
     "metadata": {},
     "output_type": "execute_result"
    }
   ],
   "source": [
    "f"
   ]
  },
  {
   "cell_type": "code",
   "execution_count": 7,
   "metadata": {},
   "outputs": [
    {
     "data": {
      "text/plain": [
       "['010010',\n",
       " '001110',\n",
       " '101000',\n",
       " '000010',\n",
       " '010000',\n",
       " '001001',\n",
       " '011110',\n",
       " '010110',\n",
       " '000110',\n",
       " '011100',\n",
       " '000100',\n",
       " '000001',\n",
       " '010001',\n",
       " '011101',\n",
       " '010011',\n",
       " '000000',\n",
       " '010111',\n",
       " '001011',\n",
       " '001111',\n",
       " '000101',\n",
       " '100001',\n",
       " '001100',\n",
       " '010100',\n",
       " '110000',\n",
       " '001101',\n",
       " '100000',\n",
       " '001000',\n",
       " '011011',\n",
       " '011001',\n",
       " '011010',\n",
       " '010101',\n",
       " '011000',\n",
       " '000111',\n",
       " '001010',\n",
       " '000011']"
      ]
     },
     "execution_count": 7,
     "metadata": {},
     "output_type": "execute_result"
    }
   ],
   "source": [
    "pick_t2(f)"
   ]
  },
  {
   "cell_type": "markdown",
   "metadata": {},
   "source": [
    "# From pick_t2 to design the circuit to measure Pt2t3"
   ]
  }
 ],
 "metadata": {
  "kernelspec": {
   "display_name": "Python 3",
   "language": "python",
   "name": "python3"
  },
  "language_info": {
   "codemirror_mode": {
    "name": "ipython",
    "version": 3
   },
   "file_extension": ".py",
   "mimetype": "text/x-python",
   "name": "python",
   "nbconvert_exporter": "python",
   "pygments_lexer": "ipython3",
   "version": "3.7.3"
  }
 },
 "nbformat": 4,
 "nbformat_minor": 2
}
