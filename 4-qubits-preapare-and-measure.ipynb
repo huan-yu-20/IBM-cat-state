{
 "cells": [
  {
   "cell_type": "code",
   "execution_count": 1,
   "metadata": {},
   "outputs": [],
   "source": [
    "from qiskit import QuantumCircuit, QuantumRegister, ClassicalRegister\n",
    "from qiskit import execute, IBMQ, Aer"
   ]
  },
  {
   "cell_type": "code",
   "execution_count": 12,
   "metadata": {
    "collapsed": true
   },
   "outputs": [],
   "source": [
    "APItoken='your APItoken'"
   ]
  },
  {
   "cell_type": "code",
   "execution_count": null,
   "metadata": {
    "collapsed": true
   },
   "outputs": [],
   "source": [
    "IBMQ.enable_account(APItoken)\n",
    "#enable your account"
   ]
  },
  {
   "cell_type": "code",
   "execution_count": null,
   "metadata": {},
   "outputs": [],
   "source": [
    "provider= IBMQ.get_provider()\n",
    "provider.backends()\n",
    "#get provider first"
   ]
  },
  {
   "cell_type": "code",
   "execution_count": 9,
   "metadata": {
    "collapsed": true
   },
   "outputs": [],
   "source": [
    "backend=provider.get_backend('ibmq_16_melbourne')"
   ]
  },
  {
   "cell_type": "code",
   "execution_count": 2,
   "metadata": {},
   "outputs": [],
   "source": [
    "simulator=Aer.get_backend('qasm_simulator')"
   ]
  },
  {
   "cell_type": "markdown",
   "metadata": {},
   "source": [
    "## Obtaining the Pt3 for the quantum witness"
   ]
  },
  {
   "cell_type": "code",
   "execution_count": null,
   "metadata": {},
   "outputs": [],
   "source": [
    "def Pt3(t):\n",
    "    q=QuantumRegister(5)\n",
    "    c=ClassicalRegister(4)\n",
    "    qc=QuantumCircuit(q,c)\n",
    "    qc.h(q[1])\n",
    "    qc.cx(q[1],q[2])\n",
    "    qc.cx(q[2],q[3])\n",
    "    qc.cx(q[3],q[4])\n",
    "    #produce the GHZ state\n",
    "    qc.barrier()\n",
    "    # If we don't add the barrier, IBM Q will automatically combine the UU^{dagger}=I . And the circuit would not perform the real processing\n",
    "    qc.cx(q[3],q[4])\n",
    "    qc.cx(q[2],q[3])\n",
    "    qc.cx(q[1],q[2])\n",
    "    qc.h(q[1])\n",
    "    qc.measure(q[1],c[0])\n",
    "    qc.measure(q[2],c[1])\n",
    "    qc.measure(q[3],c[2])\n",
    "    qc.measure(q[4],c[3])\n",
    "    #assign the number of each qubits\n",
    "    return qc"
   ]
  },
  {
   "cell_type": "markdown",
   "metadata": {},
   "source": [
    "## The prepare-and-measure scenario"
   ]
  },
  {
   "cell_type": "markdown",
   "metadata": {},
   "source": [
    "### Measuring the circuit at time t2 "
   ]
  },
  {
   "cell_type": "code",
   "execution_count": 1,
   "metadata": {},
   "outputs": [],
   "source": [
    "def Pt2(t):\n",
    "    # t means nothing but a parameter to run the loops \n",
    "    q=QuantumRegister(5)\n",
    "    c=ClassicalRegister(4)\n",
    "    qc=QuantumCircuit(q,c)\n",
    "    qc.h(q[1])\n",
    "    qc.cx(q[1],q[2])\n",
    "    qc.cx(q[2],q[3])\n",
    "    qc.cx(q[3],q[4])\n",
    "    #produce the superposition state\n",
    "    #|00> --> |00>\n",
    "    #|10> --> |11>\n",
    "    qc.measure(q[1],c[0])\n",
    "    qc.measure(q[2],c[1])\n",
    "    qc.measure(q[3],c[2])\n",
    "    qc.measure(q[4],c[3])\n",
    "    #assign the number of each qubits\n",
    "    return qc"
   ]
  },
  {
   "cell_type": "markdown",
   "metadata": {},
   "source": [
    "## The usefulness of t is making the circuit run 10 times in a loop"
   ]
  },
  {
   "cell_type": "code",
   "execution_count": 5,
   "metadata": {},
   "outputs": [
    {
     "name": "stdout",
     "output_type": "stream",
     "text": [
      "{'0000': 4075, '1111': 4117}\n",
      "{'0000': 4193, '1111': 3999}\n",
      "{'0000': 4120, '1111': 4072}\n",
      "{'0000': 4040, '1111': 4152}\n",
      "{'0000': 4114, '1111': 4078}\n",
      "{'0000': 4085, '1111': 4107}\n",
      "{'0000': 4046, '1111': 4146}\n",
      "{'0000': 4135, '1111': 4057}\n",
      "{'0000': 4068, '1111': 4124}\n",
      "{'0000': 4138, '1111': 4054}\n"
     ]
    }
   ],
   "source": [
    "for t in range(10):\n",
    "    job=execute(Pt2(t),simulator,shots=8192)\n",
    "    print(job.result().get_counts())"
   ]
  },
  {
   "cell_type": "markdown",
   "metadata": {},
   "source": [
    "## We prepare all the eigenstates from the above code and obtain the two-time-correlation function"
   ]
  },
  {
   "cell_type": "markdown",
   "metadata": {},
   "source": [
    "## One Flip"
   ]
  },
  {
   "cell_type": "code",
   "execution_count": 6,
   "metadata": {},
   "outputs": [],
   "source": [
    "def Pt2t3_1(a):\n",
    "    q=QuantumRegister(5)\n",
    "    c=ClassicalRegister(4)\n",
    "    qc=QuantumCircuit(q,c)\n",
    "    if a==0 :\n",
    "        #|0001>\n",
    "        qc.x(q[1])\n",
    "    if a==1 :\n",
    "        #|0010>\n",
    "        qc.x(q[2])\n",
    "    if a==2 :\n",
    "        #|0100>\n",
    "        qc.x(q[3])\n",
    "    if a==3 :\n",
    "        #|1000>\n",
    "        qc.x(q[4])\n",
    "        \n",
    "    qc.cx(q[3],q[4])\n",
    "    qc.cx(q[2],q[3])\n",
    "    qc.cx(q[1],q[2])\n",
    "    qc.h(q[1])\n",
    "    # the routine above is to make the system evolve back to its initial state\n",
    "    qc.measure(q[1],c[0])\n",
    "    qc.measure(q[2],c[1])\n",
    "    qc.measure(q[3],c[2])\n",
    "    qc.measure(q[4],c[3])\n",
    "    \n",
    "    return qc"
   ]
  },
  {
   "cell_type": "markdown",
   "metadata": {},
   "source": [
    "## Two Flip"
   ]
  },
  {
   "cell_type": "code",
   "execution_count": null,
   "metadata": {
    "collapsed": true
   },
   "outputs": [],
   "source": [
    "def Pt2t3_2(a):\n",
    "    q=QuantumRegister(5)\n",
    "    c=ClassicalRegister(4)\n",
    "    qc=QuantumCircuit(q,c)\n",
    "    if a==0 :\n",
    "        #|0011>\n",
    "        qc.x(q[1])\n",
    "        qc.x(q[2])\n",
    "    if a==1 :\n",
    "        #|0101>\n",
    "        qc.x(q[1])\n",
    "        qc.x(q[3])\n",
    "    if a==2 :\n",
    "        #|1001>\n",
    "        qc.x(q[1])\n",
    "        qc.x(q[4])\n",
    "    if a==3 :\n",
    "        #|0110>\n",
    "        qc.x(q[1])\n",
    "        qc.x(q[5])\n",
    "    if a==4 :\n",
    "        #|1010>\n",
    "        qc.x(q[1])\n",
    "        qc.x(q[6])\n",
    "    if a==5 :\n",
    "        #|1100>\n",
    "        qc.x(q[2])\n",
    "        qc.x(q[3])\n",
    "        \n",
    "    qc.cx(q[3],q[4])\n",
    "    qc.cx(q[2],q[3])\n",
    "    qc.cx(q[1],q[2])\n",
    "    qc.h(q[1])\n",
    "    # the routine above is to make the system evolve back to its initial state\n",
    "    qc.measure(q[1],c[0])\n",
    "    qc.measure(q[2],c[1])\n",
    "    qc.measure(q[3],c[2])\n",
    "    qc.measure(q[4],c[3])\n",
    "    \n",
    "    return qc"
   ]
  },
  {
   "cell_type": "markdown",
   "metadata": {},
   "source": [
    "## Three Flip"
   ]
  },
  {
   "cell_type": "code",
   "execution_count": null,
   "metadata": {},
   "outputs": [],
   "source": [
    "def Pt2t3_3(a):\n",
    "    q=QuantumRegister(5)\n",
    "    c=ClassicalRegister(4)\n",
    "    qc=QuantumCircuit(q,c)\n",
    "    if a==0 :\n",
    "        #|1110>\n",
    "        qc.x(q[2])\n",
    "        qc.x(q[3])\n",
    "        qc.x(q[4])\n",
    "    if a==1 :\n",
    "        #|1101>\n",
    "        qc.x(q[1])\n",
    "        qc.x(q[3])\n",
    "        qc.x(q[4])\n",
    "    if a==2 :\n",
    "        #|1011>\n",
    "        qc.x(q[1])\n",
    "        qc.x(q[2])\n",
    "        qc.x(q[4])\n",
    "    if a==3 :\n",
    "        #|0111>\n",
    "        qc.x(q[1])\n",
    "        qc.x(q[2])\n",
    "        qc.x(q[3])\n",
    "        \n",
    "    qc.cx(q[3],q[4])\n",
    "    qc.cx(q[2],q[3])\n",
    "    qc.cx(q[1],q[2])\n",
    "    qc.h(q[1])\n",
    "    # the routine above is to make the system evolve back to its initial state\n",
    "    qc.measure(q[1],c[0])\n",
    "    qc.measure(q[2],c[1])\n",
    "    qc.measure(q[3],c[2])\n",
    "    qc.measure(q[4],c[3])\n",
    "    \n",
    "    return qc"
   ]
  },
  {
   "cell_type": "markdown",
   "metadata": {},
   "source": [
    "# Four flip"
   ]
  },
  {
   "cell_type": "code",
   "execution_count": null,
   "metadata": {},
   "outputs": [],
   "source": [
    "def Pt2t3_4(t):\n",
    "    qc.x(q[1])\n",
    "    qc.x(q[2])\n",
    "    qc.x(q[3])\n",
    "    qc.x(q[4])\n",
    "    \n",
    "    qc.cx(q[3],q[4])\n",
    "    qc.cx(q[2],q[3])\n",
    "    qc.cx(q[1],q[2])\n",
    "    qc.h(q[1])\n",
    "    # the routine above is to make the system evolve back to its initial state\n",
    "    qc.measure(q[1],c[0])\n",
    "    qc.measure(q[2],c[1])\n",
    "    qc.measure(q[3],c[2])\n",
    "    qc.measure(q[4],c[3])\n",
    "    \n",
    "    return qc"
   ]
  },
  {
   "cell_type": "markdown",
   "metadata": {},
   "source": [
    "## After we get the Pt2t3 , we can calculate the witness by\n",
    "## |Pt3-sum(Pt(i)Pt2t3(i)|"
   ]
  },
  {
   "cell_type": "code",
   "execution_count": null,
   "metadata": {},
   "outputs": [],
   "source": []
  }
 ],
 "metadata": {
  "kernelspec": {
   "display_name": "Python 3",
   "language": "python",
   "name": "python3"
  },
  "language_info": {
   "codemirror_mode": {
    "name": "ipython",
    "version": 3
   },
   "file_extension": ".py",
   "mimetype": "text/x-python",
   "name": "python",
   "nbconvert_exporter": "python",
   "pygments_lexer": "ipython3",
   "version": "3.7.3"
  }
 },
 "nbformat": 4,
 "nbformat_minor": 2
}
