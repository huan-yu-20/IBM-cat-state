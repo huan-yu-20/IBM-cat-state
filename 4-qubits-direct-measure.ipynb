{
 "cells": [
  {
   "cell_type": "code",
   "execution_count": 1,
   "metadata": {},
   "outputs": [],
   "source": [
    "from qiskit import QuantumCircuit, QuantumRegister, ClassicalRegister\n",
    "from qiskit import execute, IBMQ, Aer"
   ]
  },
  {
   "cell_type": "code",
   "execution_count": 12,
   "metadata": {
    "collapsed": true
   },
   "outputs": [],
   "source": [
    "APItoken='your APItoken'"
   ]
  },
  {
   "cell_type": "code",
   "execution_count": null,
   "metadata": {
    "collapsed": true
   },
   "outputs": [],
   "source": [
    "IBMQ.enable_account(APItoken)\n",
    "#enable your account"
   ]
  },
  {
   "cell_type": "code",
   "execution_count": null,
   "metadata": {},
   "outputs": [],
   "source": [
    "provider= IBMQ.get_provider()\n",
    "provider.backends()\n",
    "#get provider first"
   ]
  },
  {
   "cell_type": "code",
   "execution_count": 9,
   "metadata": {
    "collapsed": true
   },
   "outputs": [],
   "source": [
    "backend=provider.get_backend('ibmq_16_melbourne')"
   ]
  },
  {
   "cell_type": "code",
   "execution_count": 3,
   "metadata": {},
   "outputs": [],
   "source": [
    "simulator = Aer.get_backend('qasm_simulator')\n",
    "#simulator"
   ]
  },
  {
   "cell_type": "markdown",
   "metadata": {},
   "source": [
    "## We design a quantum circuit to obtain Pt3"
   ]
  },
  {
   "cell_type": "code",
   "execution_count": 22,
   "metadata": {},
   "outputs": [],
   "source": [
    "def Pt3(t):\n",
    "    q=QuantumRegister(5)\n",
    "    c=ClassicalRegister(4)\n",
    "    qc=QuantumCircuit(q,c)\n",
    "    qc.h(q[1])\n",
    "    qc.cx(q[1],q[2])\n",
    "    qc.cx(q[2],q[3])\n",
    "    qc.cx(q[3],q[4])\n",
    "    #produce the GHZ state\n",
    "    qc.barrier()\n",
    "    # If we don't add the barrier, IBM Q will automatically combine the UU^{dagger}=I . And the circuit would not perform the real processing\n",
    "    qc.cx(q[3],q[4])\n",
    "    qc.cx(q[2],q[3])\n",
    "    qc.cx(q[1],q[2])\n",
    "    qc.h(q[1])\n",
    "    qc.measure(q[1],c[0])\n",
    "    qc.measure(q[2],c[1])\n",
    "    qc.measure(q[3],c[2])\n",
    "    qc.measure(q[4],c[3])\n",
    "    #assign the number of each qubits\n",
    "    return qc"
   ]
  },
  {
   "cell_type": "markdown",
   "metadata": {},
   "source": [
    "## By using the ancilla qubit, we can obtain the two-time correlation function by the following code (Direct-measre scenario)"
   ]
  },
  {
   "cell_type": "code",
   "execution_count": 6,
   "metadata": {},
   "outputs": [],
   "source": [
    "def Pt2t3(t):\n",
    "    q=QuantumRegister(14)\n",
    "    c=ClassicalRegister(8)\n",
    "    qc=QuantumCircuit(q,c)\n",
    "    qc.h(q[1])\n",
    "    qc.cx(q[1],q[2])\n",
    "    qc.cx(q[2],q[3])\n",
    "    qc.cx(q[3],q[4])\n",
    "   #produce the GHZ state\n",
    "    qc.cx(q[1],q[13])\n",
    "    qc.cx(q[2],q[12])\n",
    "    qc.cx(q[3],q[11])\n",
    "    qc.cx(q[4],q[10])\n",
    "    #q[13] q[12] q[11] q[10] are ancilla qubits\n",
    "    #they are used to measure the GHZ state containing q[1] q[2] q[3] q[4] at t2 respectively\n",
    "    qc.cx(q[3],q[4])\n",
    "    qc.cx(q[2],q[3])\n",
    "    qc.cx(q[1],q[2])\n",
    "    qc.h(q[1])\n",
    "    qc.measure(q[13],c[0])\n",
    "    qc.measure(q[12],c[1])\n",
    "    qc.measure(q[11],c[2])\n",
    "    qc.measure(q[10],c[3])\n",
    "    qc.measure(q[1],c[4])\n",
    "    qc.measure(q[2],c[5])\n",
    "    qc.measure(q[3],c[6])\n",
    "    qc.measure(q[4],c[7])\n",
    "    #assign the number of each qubits\n",
    "    return qc"
   ]
  },
  {
   "cell_type": "markdown",
   "metadata": {},
   "source": [
    "## The usefulness of t is making the circuit run many times in a loop"
   ]
  },
  {
   "cell_type": "markdown",
   "metadata": {},
   "source": [
    "# Get Pt3"
   ]
  },
  {
   "cell_type": "code",
   "execution_count": 23,
   "metadata": {},
   "outputs": [],
   "source": [
    "A=[]\n",
    "for t in range(5):\n",
    "    job=execute(Pt3(0),simulator,shots=8192)\n",
    "    A.append(job)"
   ]
  },
  {
   "cell_type": "code",
   "execution_count": 24,
   "metadata": {},
   "outputs": [
    {
     "name": "stdout",
     "output_type": "stream",
     "text": [
      "{'0000': 8192}\n",
      "{'0000': 8192}\n",
      "{'0000': 8192}\n",
      "{'0000': 8192}\n",
      "{'0000': 8192}\n"
     ]
    }
   ],
   "source": [
    "for i in range(5):\n",
    "    print(A[i].result().get_counts())"
   ]
  },
  {
   "cell_type": "code",
   "execution_count": 25,
   "metadata": {},
   "outputs": [],
   "source": [
    "f={}\n",
    "f[0]={'0000': 8192}\n",
    "f[1]={'0000': 8192}\n",
    "f[2]={'0000': 8192}\n",
    "f[3]={'0000': 8192}\n",
    "f[4]={'0000': 8192}"
   ]
  },
  {
   "cell_type": "markdown",
   "metadata": {},
   "source": [
    "# Pick Pt3 with only outcome 0000 which is used in quantum witness\n"
   ]
  },
  {
   "cell_type": "code",
   "execution_count": 21,
   "metadata": {},
   "outputs": [],
   "source": [
    "#Transfer the data from IBM Q become probability\n",
    "import copy\n",
    "def pick_t3(g,n):\n",
    "    f=copy.deepcopy(g)\n",
    "    for i in range(len(f)):\n",
    "        for key in f[i].keys():\n",
    "            f[i][key] = f[i][key]/8192\n",
    "            if key == n:\n",
    "                print(f[i][n])"
   ]
  },
  {
   "cell_type": "code",
   "execution_count": 26,
   "metadata": {},
   "outputs": [
    {
     "name": "stdout",
     "output_type": "stream",
     "text": [
      "1.0\n",
      "1.0\n",
      "1.0\n",
      "1.0\n",
      "1.0\n"
     ]
    }
   ],
   "source": [
    "pick_t3(f,'0000')"
   ]
  },
  {
   "cell_type": "markdown",
   "metadata": {},
   "source": [
    "# Obtain two-time correlation function Pt2*Pt2t3"
   ]
  },
  {
   "cell_type": "code",
   "execution_count": 11,
   "metadata": {},
   "outputs": [],
   "source": [
    "A=[]\n",
    "for t in range(5):\n",
    "    job=execute(Pt2t3(t),simulator,shots=8192)\n",
    "    A.append(job)"
   ]
  },
  {
   "cell_type": "code",
   "execution_count": 13,
   "metadata": {},
   "outputs": [
    {
     "name": "stdout",
     "output_type": "stream",
     "text": [
      "{'00010000': 2017, '00000000': 2115, '00011111': 2094, '00001111': 1966}\n",
      "{'00010000': 2119, '00000000': 2057, '00011111': 1972, '00001111': 2044}\n",
      "{'00010000': 1997, '00000000': 2064, '00011111': 2086, '00001111': 2045}\n",
      "{'00010000': 2014, '00000000': 2021, '00011111': 2099, '00001111': 2058}\n",
      "{'00010000': 2037, '00000000': 2026, '00011111': 2032, '00001111': 2097}\n"
     ]
    }
   ],
   "source": [
    "for i in range(5):\n",
    "    print(A[i].result().get_counts())"
   ]
  },
  {
   "cell_type": "code",
   "execution_count": 14,
   "metadata": {},
   "outputs": [],
   "source": [
    "import copy\n",
    "def picks(g,n,k):\n",
    "    # g is the raw data\n",
    "    # n represents the number of the entangled qubits you used\n",
    "    # k is the final state you want from the raw data\n",
    "    effective_f={}\n",
    "    effective={}\n",
    "    f=copy.deepcopy(g)\n",
    "    # we don't want the data to be changed, so we make a copy of that\n",
    "    for i in range(len(f)):\n",
    "        for key in f[i].keys():\n",
    "            f[i][key] = f[i][key]/8192\n",
    "        data=f[i].keys()\n",
    "        state=[]\n",
    "        for j in data:\n",
    "            state.append(j)\n",
    "        final_state=[u[0:n] for u in state]\n",
    "        effective_state=[]\n",
    "        for j in range(len(state)):\n",
    "            if final_state[j] == k :\n",
    "                effective_state.append(state[j])\n",
    "                    \n",
    "        effective[i]={key:f[i][key] for key in effective_state}\n",
    "        \n",
    "        \n",
    "            \n",
    "    return effective"
   ]
  },
  {
   "cell_type": "code",
   "execution_count": 15,
   "metadata": {},
   "outputs": [],
   "source": [
    "g={}\n",
    "g[0]={'00010000': 2017, '00000000': 2115, '00011111': 2094, '00001111': 1966}\n",
    "g[1]={'00010000': 2119, '00000000': 2057, '00011111': 1972, '00001111': 2044}\n",
    "g[2]={'00010000': 1997, '00000000': 2064, '00011111': 2086, '00001111': 2045}\n",
    "g[3]={'00010000': 2014, '00000000': 2021, '00011111': 2099, '00001111': 2058}\n",
    "g[4]={'00010000': 2037, '00000000': 2026, '00011111': 2032, '00001111': 2097}"
   ]
  },
  {
   "cell_type": "code",
   "execution_count": 17,
   "metadata": {
    "scrolled": false
   },
   "outputs": [
    {
     "data": {
      "text/plain": [
       "{0: {'00000000': 0.2581787109375, '00001111': 0.239990234375},\n",
       " 1: {'00000000': 0.2510986328125, '00001111': 0.24951171875},\n",
       " 2: {'00000000': 0.251953125, '00001111': 0.2496337890625},\n",
       " 3: {'00000000': 0.2467041015625, '00001111': 0.251220703125},\n",
       " 4: {'00000000': 0.247314453125, '00001111': 0.2559814453125}}"
      ]
     },
     "execution_count": 17,
     "metadata": {},
     "output_type": "execute_result"
    }
   ],
   "source": [
    "picks(g,4,'0000')\n",
    "# the sum of data is Pt2*Pt2t3"
   ]
  },
  {
   "cell_type": "markdown",
   "metadata": {},
   "source": [
    "# We can get the witness by |Pt3 - sum(Pt2*Pt2t3)|"
   ]
  }
 ],
 "metadata": {
  "kernelspec": {
   "display_name": "Python 3",
   "language": "python",
   "name": "python3"
  },
  "language_info": {
   "codemirror_mode": {
    "name": "ipython",
    "version": 3
   },
   "file_extension": ".py",
   "mimetype": "text/x-python",
   "name": "python",
   "nbconvert_exporter": "python",
   "pygments_lexer": "ipython3",
   "version": "3.7.1"
  }
 },
 "nbformat": 4,
 "nbformat_minor": 2
}
