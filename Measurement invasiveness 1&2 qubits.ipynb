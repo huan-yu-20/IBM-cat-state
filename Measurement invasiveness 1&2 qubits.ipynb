{
 "cells": [
  {
   "cell_type": "code",
   "execution_count": 2,
   "metadata": {},
   "outputs": [],
   "source": [
    "from qiskit import QuantumCircuit, QuantumRegister, ClassicalRegister\n",
    "from qiskit import IBMQ, execute, Aer"
   ]
  },
  {
   "cell_type": "code",
   "execution_count": 4,
   "metadata": {},
   "outputs": [
    {
     "data": {
      "text/plain": [
       "[<IBMQSimulator('ibmq_qasm_simulator') from IBMQ(hub='ibm-q', group='open', project='main')>,\n",
       " <IBMQBackend('ibmqx2') from IBMQ(hub='ibm-q', group='open', project='main')>,\n",
       " <IBMQBackend('ibmq_16_melbourne') from IBMQ(hub='ibm-q', group='open', project='main')>,\n",
       " <IBMQBackend('ibmq_vigo') from IBMQ(hub='ibm-q', group='open', project='main')>,\n",
       " <IBMQBackend('ibmq_ourense') from IBMQ(hub='ibm-q', group='open', project='main')>]"
      ]
     },
     "execution_count": 4,
     "metadata": {},
     "output_type": "execute_result"
    }
   ],
   "source": [
    "IBMQ.enable_account(APItoken)\n",
    "#enable your account\n",
    "provider=IBMQ.get_provider()\n",
    "provider.backends()"
   ]
  },
  {
   "cell_type": "code",
   "execution_count": 5,
   "metadata": {},
   "outputs": [],
   "source": [
    "backend = provider.get_backend('ibmq_16_melbourne')\n",
    "simulator=Aer.get_backend('qasm_simulator')"
   ]
  },
  {
   "cell_type": "markdown",
   "metadata": {},
   "source": [
    "## We prepare the state without coherence in the computational basis. And then obtain the probability distribution with and without the second unitary. In general, the difference between two probability is contributed by invasive measurement."
   ]
  },
  {
   "cell_type": "markdown",
   "metadata": {},
   "source": [
    "# Single qubit"
   ]
  },
  {
   "cell_type": "markdown",
   "metadata": {},
   "source": [
    "## With measurement at time t_1"
   ]
  },
  {
   "cell_type": "code",
   "execution_count": 51,
   "metadata": {},
   "outputs": [],
   "source": [
    "def One_qubit(a) :\n",
    "    qeo=QuantumRegister(2)\n",
    "    ceo=ClassicalRegister(1)\n",
    "    qceo=QuantumCircuit(qeo,ceo)\n",
    "    if a==0 :\n",
    "        pass\n",
    "    if a==1 :\n",
    "        qceo.x(qeo[1])\n",
    "        \n",
    "    qceo.cx(qeo[1],qeo[0])\n",
    "    # q[0] is the ancilla qubit\n",
    "    qceo.measure(qeo[1],ceo[0])"
   ]
  },
  {
   "cell_type": "markdown",
   "metadata": {},
   "source": [
    "## Without measurement at time t_1"
   ]
  },
  {
   "cell_type": "code",
   "execution_count": 55,
   "metadata": {},
   "outputs": [],
   "source": [
    "def One_qubit(a) :\n",
    "    qeo=QuantumRegister(2)\n",
    "    ceo=ClassicalRegister(1)\n",
    "    qceo=QuantumCircuit(qeo,ceo)\n",
    "    if a==0 :\n",
    "        pass\n",
    "    if a==1 :\n",
    "        qceo.x(qeo[1])\n",
    "        \n",
    "    qceo.measure(qeo[1],ceo[0])\n",
    "    return qceo"
   ]
  },
  {
   "cell_type": "markdown",
   "metadata": {},
   "source": [
    "## |0>"
   ]
  },
  {
   "cell_type": "code",
   "execution_count": 56,
   "metadata": {},
   "outputs": [
    {
     "name": "stdout",
     "output_type": "stream",
     "text": [
      "t = 0\n",
      "{'0': 8192} \n",
      "\n",
      "t = 1\n",
      "{'0': 8192} \n",
      "\n",
      "t = 2\n",
      "{'0': 8192} \n",
      "\n",
      "t = 3\n",
      "{'0': 8192} \n",
      "\n",
      "t = 4\n",
      "{'0': 8192} \n",
      "\n"
     ]
    }
   ],
   "source": [
    "qcs=[]\n",
    "# prepare circuits \n",
    "qcs = []\n",
    "for i in range(5) :\n",
    "    #run 5 times\n",
    "    qcs.append(One_qubit(0))\n",
    "\n",
    "# execute\n",
    "job=execute(qcs,simulator,shots=8192)\n",
    "    \n",
    "# print the data\n",
    "j = 0\n",
    "for qc in qcs :\n",
    "    print(\"t =\", j)\n",
    "    print(job.result().get_counts(qc), \"\\n\")\n",
    "    j = j + 1"
   ]
  },
  {
   "cell_type": "markdown",
   "metadata": {},
   "source": [
    "## |1>"
   ]
  },
  {
   "cell_type": "code",
   "execution_count": 57,
   "metadata": {},
   "outputs": [
    {
     "name": "stdout",
     "output_type": "stream",
     "text": [
      "t = 0\n",
      "{'1': 8192} \n",
      "\n",
      "t = 1\n",
      "{'1': 8192} \n",
      "\n",
      "t = 2\n",
      "{'1': 8192} \n",
      "\n",
      "t = 3\n",
      "{'1': 8192} \n",
      "\n",
      "t = 4\n",
      "{'1': 8192} \n",
      "\n"
     ]
    }
   ],
   "source": [
    "qcs=[]\n",
    "# prepare circuits \n",
    "qcs = []\n",
    "for i in range(5) :\n",
    "    #run 5 times\n",
    "    qcs.append(One_qubit(1))\n",
    "\n",
    "# execute\n",
    "job=execute(qcs,simulator,shots=8192)\n",
    "    \n",
    "# print the data\n",
    "j = 0\n",
    "for qc in qcs :\n",
    "    print(\"t =\", j)\n",
    "    print(job.result().get_counts(qc), \"\\n\")\n",
    "    j = j + 1"
   ]
  },
  {
   "cell_type": "markdown",
   "metadata": {},
   "source": [
    "# Two-qubit test"
   ]
  },
  {
   "cell_type": "markdown",
   "metadata": {},
   "source": [
    "# With measurement at time t_1"
   ]
  },
  {
   "cell_type": "markdown",
   "metadata": {},
   "source": [
    "## No Excitation"
   ]
  },
  {
   "cell_type": "code",
   "execution_count": 15,
   "metadata": {},
   "outputs": [],
   "source": [
    "def No_flip(t):\n",
    "    qeo=QuantumRegister(13)\n",
    "    ceo=ClassicalRegister(2)\n",
    "    qceo=QuantumCircuit(qeo,ceo)\n",
    "    qceo.cx(qeo[1],qeo[0])\n",
    "    qceo.cx(qeo[2],qeo[12])\n",
    "    qceo.measure(qeo[1],ceo[0])\n",
    "    qceo.measure(qeo[2],ceo[1])\n",
    "    return qceo"
   ]
  },
  {
   "cell_type": "code",
   "execution_count": 25,
   "metadata": {},
   "outputs": [
    {
     "name": "stdout",
     "output_type": "stream",
     "text": [
      "t = 0\n",
      "{'00': 8192} \n",
      "\n",
      "t = 1\n",
      "{'00': 8192} \n",
      "\n",
      "t = 2\n",
      "{'00': 8192} \n",
      "\n",
      "t = 3\n",
      "{'00': 8192} \n",
      "\n",
      "t = 4\n",
      "{'00': 8192} \n",
      "\n"
     ]
    }
   ],
   "source": [
    "qcs=[]\n",
    "# prepare circuits \n",
    "qcs = []\n",
    "for i in range(5) :\n",
    "    #run 5 times\n",
    "    qcs.append(No_flip(i))\n",
    "\n",
    "# execute\n",
    "job=execute(qcs,simulator,shots=8192)\n",
    "    \n",
    "# print the data\n",
    "j = 0\n",
    "for qc in qcs :\n",
    "    print(\"t =\", j)\n",
    "    print(job.result().get_counts(qc), \"\\n\")\n",
    "    j = j + 1"
   ]
  },
  {
   "cell_type": "markdown",
   "metadata": {},
   "source": [
    "## One Excitation"
   ]
  },
  {
   "cell_type": "code",
   "execution_count": 34,
   "metadata": {},
   "outputs": [],
   "source": [
    "def One_flip(a):\n",
    "    qeo=QuantumRegister(13)\n",
    "    ceo=ClassicalRegister(2)\n",
    "    qceo=QuantumCircuit(qeo,ceo)\n",
    "    if a==0 :\n",
    "        #|01>\n",
    "        qceo.x(qeo[1])\n",
    "    if a==1 :\n",
    "        #|10>\n",
    "        qceo.x(qeo[2])\n",
    "        \n",
    "    qceo.cx(qeo[1],qeo[0])\n",
    "    qceo.cx(qeo[2],qeo[12])\n",
    "    qceo.measure(qeo[1],ceo[0])\n",
    "    qceo.measure(qeo[2],ceo[1])\n",
    "    return qceo"
   ]
  },
  {
   "cell_type": "code",
   "execution_count": 35,
   "metadata": {},
   "outputs": [
    {
     "name": "stdout",
     "output_type": "stream",
     "text": [
      "a = 0\n",
      "{'01': 8192} \n",
      "\n",
      "a = 1\n",
      "{'10': 8192} \n",
      "\n"
     ]
    }
   ],
   "source": [
    "qcs=[]\n",
    "# prepare circuits \n",
    "qcs = []\n",
    "for i in range(2) :\n",
    "    #run 5 times\n",
    "    qcs.append(One_flip(i))\n",
    "\n",
    "# execute\n",
    "job=execute(qcs,simulator,shots=8192)\n",
    "    \n",
    "# print the data\n",
    "j = 0\n",
    "for qc in qcs :\n",
    "    print(\"a =\", j)\n",
    "    print(job.result().get_counts(qc), \"\\n\")\n",
    "    j = j + 1"
   ]
  },
  {
   "cell_type": "markdown",
   "metadata": {},
   "source": [
    "### We run the experiements five times"
   ]
  },
  {
   "cell_type": "markdown",
   "metadata": {},
   "source": [
    "## Two Excitation"
   ]
  },
  {
   "cell_type": "code",
   "execution_count": 41,
   "metadata": {},
   "outputs": [],
   "source": [
    "def Two_flip(t):\n",
    "    qeo=QuantumRegister(14)\n",
    "    ceo=ClassicalRegister(2)\n",
    "    qceo=QuantumCircuit(qeo,ceo)\n",
    "    qceo.x(qeo[1])\n",
    "    qceo.x(qeo[2])\n",
    "    qceo.cx(qeo[1],qeo[0])\n",
    "    qceo.cx(qeo[2],qeo[12])\n",
    "    qceo.measure(qeo[1],ceo[0])\n",
    "    qceo.measure(qeo[2],ceo[1])\n",
    "    return qceo"
   ]
  },
  {
   "cell_type": "code",
   "execution_count": 42,
   "metadata": {},
   "outputs": [
    {
     "name": "stdout",
     "output_type": "stream",
     "text": [
      "t = 0\n",
      "{'11': 8192} \n",
      "\n",
      "t = 1\n",
      "{'11': 8192} \n",
      "\n",
      "t = 2\n",
      "{'11': 8192} \n",
      "\n",
      "t = 3\n",
      "{'11': 8192} \n",
      "\n",
      "t = 4\n",
      "{'11': 8192} \n",
      "\n"
     ]
    }
   ],
   "source": [
    "qcs=[]\n",
    "# prepare circuits \n",
    "qcs = []\n",
    "for i in range(5) :\n",
    "    #run 5 times\n",
    "    qcs.append(Two_flip(i))\n",
    "\n",
    "# execute\n",
    "job=execute(qcs,simulator,shots=8192)\n",
    "    \n",
    "# print the data\n",
    "j = 0\n",
    "for qc in qcs :\n",
    "    print(\"t =\", j)\n",
    "    print(job.result().get_counts(qc), \"\\n\")\n",
    "    j = j + 1"
   ]
  },
  {
   "cell_type": "markdown",
   "metadata": {},
   "source": [
    "## Without measurement at time t_1"
   ]
  },
  {
   "cell_type": "markdown",
   "metadata": {},
   "source": [
    "## No Excitation"
   ]
  },
  {
   "cell_type": "code",
   "execution_count": 19,
   "metadata": {},
   "outputs": [],
   "source": [
    "def No_flip_n(t):\n",
    "    qeo=QuantumRegister(3)\n",
    "    ceo=ClassicalRegister(2)\n",
    "    qceo=QuantumCircuit(qeo,ceo)\n",
    "    qceo.measure(qeo[1],ceo[0])\n",
    "    qceo.measure(qeo[2],ceo[1])\n",
    "    return qceo"
   ]
  },
  {
   "cell_type": "code",
   "execution_count": 26,
   "metadata": {},
   "outputs": [
    {
     "name": "stdout",
     "output_type": "stream",
     "text": [
      "t = 0\n",
      "{'00': 8192} \n",
      "\n",
      "t = 1\n",
      "{'00': 8192} \n",
      "\n",
      "t = 2\n",
      "{'00': 8192} \n",
      "\n",
      "t = 3\n",
      "{'00': 8192} \n",
      "\n",
      "t = 4\n",
      "{'00': 8192} \n",
      "\n"
     ]
    }
   ],
   "source": [
    "qcs=[]\n",
    "# prepare circuits \n",
    "qcs = []\n",
    "for i in range(5) :\n",
    "    #run 5 times\n",
    "    qcs.append(No_flip_n(i))\n",
    "\n",
    "# execute\n",
    "job=execute(qcs,simulator,shots=8192)\n",
    "    \n",
    "# print the data\n",
    "j = 0\n",
    "for qc in qcs :\n",
    "    print(\"t =\", j)\n",
    "    print(job.result().get_counts(qc), \"\\n\")\n",
    "    j = j + 1"
   ]
  },
  {
   "cell_type": "markdown",
   "metadata": {},
   "source": [
    "## One Excitation"
   ]
  },
  {
   "cell_type": "code",
   "execution_count": 31,
   "metadata": {},
   "outputs": [],
   "source": [
    "def One_flip_n(a):\n",
    "    qeo=QuantumRegister(3)\n",
    "    ceo=ClassicalRegister(2)\n",
    "    qceo=QuantumCircuit(qeo,ceo)\n",
    "    if a==0 :\n",
    "        #|01>\n",
    "        qceo.x(qeo[1])\n",
    "    if a==1 :\n",
    "        #|10>\n",
    "        qceo.x(qeo[2])\n",
    "        \n",
    "    \n",
    "    qceo.measure(qeo[1],ceo[0])\n",
    "    qceo.measure(qeo[2],ceo[1])\n",
    "    return qceo"
   ]
  },
  {
   "cell_type": "code",
   "execution_count": 33,
   "metadata": {},
   "outputs": [
    {
     "name": "stdout",
     "output_type": "stream",
     "text": [
      "a = 0\n",
      "{'01': 8192} \n",
      "\n",
      "a = 1\n",
      "{'10': 8192} \n",
      "\n"
     ]
    }
   ],
   "source": [
    "qcs=[]\n",
    "# prepare circuits \n",
    "qcs = []\n",
    "for i in range(2) :\n",
    "    #run 5 times\n",
    "    qcs.append(One_flip_n(i))\n",
    "\n",
    "# execute\n",
    "job=execute(qcs,simulator,shots=8192)\n",
    "    \n",
    "# print the data\n",
    "j = 0\n",
    "for qc in qcs :\n",
    "    print(\"a =\", j)\n",
    "    print(job.result().get_counts(qc), \"\\n\")\n",
    "    j = j + 1"
   ]
  },
  {
   "cell_type": "markdown",
   "metadata": {},
   "source": [
    "### run five times"
   ]
  },
  {
   "cell_type": "markdown",
   "metadata": {},
   "source": [
    "## Two Excitation"
   ]
  },
  {
   "cell_type": "code",
   "execution_count": 39,
   "metadata": {},
   "outputs": [],
   "source": [
    "def Two_flip_n(t):\n",
    "    qeo=QuantumRegister(14)\n",
    "    ceo=ClassicalRegister(2)\n",
    "    qceo=QuantumCircuit(qeo,ceo)\n",
    "    qceo.x(qeo[1])\n",
    "    qceo.x(qeo[2])\n",
    "    \n",
    "    qceo.measure(qeo[1],ceo[0])\n",
    "    qceo.measure(qeo[2],ceo[1])\n",
    "    return qceo"
   ]
  },
  {
   "cell_type": "code",
   "execution_count": 40,
   "metadata": {},
   "outputs": [
    {
     "name": "stdout",
     "output_type": "stream",
     "text": [
      "t = 0\n",
      "{'11': 8192} \n",
      "\n",
      "t = 1\n",
      "{'11': 8192} \n",
      "\n",
      "t = 2\n",
      "{'11': 8192} \n",
      "\n",
      "t = 3\n",
      "{'11': 8192} \n",
      "\n",
      "t = 4\n",
      "{'11': 8192} \n",
      "\n"
     ]
    }
   ],
   "source": [
    "qcs=[]\n",
    "# prepare circuits \n",
    "qcs = []\n",
    "for i in range(5) :\n",
    "    #run 5 times\n",
    "    qcs.append(Two_flip_n(i))\n",
    "\n",
    "# execute\n",
    "job=execute(qcs,simulator,shots=8192)\n",
    "    \n",
    "# print the data\n",
    "j = 0\n",
    "for qc in qcs :\n",
    "    print(\"t =\", j)\n",
    "    print(job.result().get_counts(qc), \"\\n\")\n",
    "    j = j + 1"
   ]
  },
  {
   "cell_type": "markdown",
   "metadata": {},
   "source": [
    "# Calculate the witness"
   ]
  },
  {
   "cell_type": "markdown",
   "metadata": {},
   "source": [
    "## After we collect and organize the data , we can calculate the witness"
   ]
  },
  {
   "cell_type": "markdown",
   "metadata": {},
   "source": [
    "## We can use the code below to calculate"
   ]
  },
  {
   "cell_type": "code",
   "execution_count": 43,
   "metadata": {},
   "outputs": [],
   "source": [
    "def witness(a,b,k) :\n",
    "    from copy import deepcopy\n",
    "    # a and b are raw data \n",
    "    A=deepcopy(a)\n",
    "    B=deepcopy(b)\n",
    "    # # we don't want the data to be changed, so we make a copy of that\n",
    "    # if it is one qubit  case k = '0'\n",
    "    # if it is two qubits case k = '00'\n",
    "    for i in range(len(A)):\n",
    "        for j in range(len(B)):\n",
    "            C=abs(A[i][k]-B[j][k])\n",
    "            C=C/8192\n",
    "            print(C)"
   ]
  },
  {
   "cell_type": "markdown",
   "metadata": {},
   "source": [
    "## Example"
   ]
  },
  {
   "cell_type": "code",
   "execution_count": 48,
   "metadata": {},
   "outputs": [],
   "source": [
    "A1={}\n",
    "A1[0]={'00': 42, '01': 415, '11': 6957, '10': 778}\n",
    "A1[1]={'00': 42, '01': 421, '11': 6997, '10': 732}\n",
    "A1[2]={'00': 41, '01': 414, '11': 6978, '10': 759}\n",
    "A1[3]={'00': 56, '01': 406, '11': 6935, '10': 795}\n",
    "A1[4]={'00': 52, '01': 398, '11': 7066, '10': 676}"
   ]
  },
  {
   "cell_type": "code",
   "execution_count": 49,
   "metadata": {},
   "outputs": [],
   "source": [
    "B1={}\n",
    "B1[0]={'00': 24, '01': 287, '11': 7225, '10': 656}\n",
    "B1[1]={'00': 20, '01': 337, '11': 7356, '10': 479}\n",
    "B1[2]={'00': 30, '01': 319, '11': 7280, '10': 563}\n",
    "B1[3]={'00': 25, '01': 319, '11': 7228, '10': 620}\n",
    "B1[4]={'00': 28, '01': 343, '11': 7191, '10': 630}"
   ]
  },
  {
   "cell_type": "code",
   "execution_count": 50,
   "metadata": {},
   "outputs": [
    {
     "name": "stdout",
     "output_type": "stream",
     "text": [
      "0.002197265625\n",
      "0.002685546875\n",
      "0.00146484375\n",
      "0.0020751953125\n",
      "0.001708984375\n",
      "0.002197265625\n",
      "0.002685546875\n",
      "0.00146484375\n",
      "0.0020751953125\n",
      "0.001708984375\n",
      "0.0020751953125\n",
      "0.0025634765625\n",
      "0.0013427734375\n",
      "0.001953125\n",
      "0.0015869140625\n",
      "0.00390625\n",
      "0.00439453125\n",
      "0.003173828125\n",
      "0.0037841796875\n",
      "0.00341796875\n",
      "0.00341796875\n",
      "0.00390625\n",
      "0.002685546875\n",
      "0.0032958984375\n",
      "0.0029296875\n"
     ]
    }
   ],
   "source": [
    "witness(A1,B1,'00')"
   ]
  }
 ],
 "metadata": {
  "kernelspec": {
   "display_name": "Python 3",
   "language": "python",
   "name": "python3"
  },
  "language_info": {
   "codemirror_mode": {
    "name": "ipython",
    "version": 3
   },
   "file_extension": ".py",
   "mimetype": "text/x-python",
   "name": "python",
   "nbconvert_exporter": "python",
   "pygments_lexer": "ipython3",
   "version": "3.7.1"
  }
 },
 "nbformat": 4,
 "nbformat_minor": 2
}
