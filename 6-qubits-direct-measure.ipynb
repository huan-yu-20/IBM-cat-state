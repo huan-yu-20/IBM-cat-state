{
 "cells": [
  {
   "cell_type": "code",
   "execution_count": 1,
   "metadata": {},
   "outputs": [],
   "source": [
    "from qiskit import QuantumCircuit, QuantumRegister, ClassicalRegister\n",
    "from qiskit import execute, IBMQ, Aer"
   ]
  },
  {
   "cell_type": "code",
   "execution_count": null,
   "metadata": {},
   "outputs": [],
   "source": [
    "APItoken='your APItoken'"
   ]
  },
  {
   "cell_type": "code",
   "execution_count": null,
   "metadata": {},
   "outputs": [],
   "source": [
    "IBMQ.enable_account(APItoken)"
   ]
  },
  {
   "cell_type": "markdown",
   "metadata": {},
   "source": [
    "### simulator"
   ]
  },
  {
   "cell_type": "code",
   "execution_count": 2,
   "metadata": {},
   "outputs": [],
   "source": [
    "simulator = Aer.get_backend('qasm_simulator')\n",
    "#simulator"
   ]
  },
  {
   "cell_type": "markdown",
   "metadata": {},
   "source": [
    "### real device"
   ]
  },
  {
   "cell_type": "code",
   "execution_count": null,
   "metadata": {},
   "outputs": [],
   "source": [
    "provider= IBMQ.get_provider()\n",
    "provider.backends()\n",
    "#get provider first"
   ]
  },
  {
   "cell_type": "code",
   "execution_count": null,
   "metadata": {},
   "outputs": [],
   "source": [
    "backend=provider.get_backend('ibmq_16_melbourne')"
   ]
  },
  {
   "cell_type": "markdown",
   "metadata": {},
   "source": [
    "## Obtaining the Pt3 for the quantum witness"
   ]
  },
  {
   "cell_type": "code",
   "execution_count": 3,
   "metadata": {},
   "outputs": [],
   "source": [
    "def Pt3(t):\n",
    "    q=QuantumRegister(7)\n",
    "    c=ClassicalRegister(6)\n",
    "    qc=QuantumCircuit(q,c)\n",
    "    qc.h(q[1])\n",
    "    qc.cx(q[1],q[2])\n",
    "    qc.cx(q[2],q[3])\n",
    "    qc.cx(q[3],q[4])\n",
    "    qc.cx(q[4],q[5])\n",
    "    qc.cx(q[5],q[6])\n",
    "    #produce the GHZ state\n",
    "    \n",
    "    qc.barrier()\n",
    "    # If we don't add the barrier, IBM Q will automatically combine the UU^{dagger}=I . \n",
    "    # And the IBM would not perform the real processing\n",
    "    qc.cx(q[5],q[6])\n",
    "    qc.cx(q[4],q[5])\n",
    "    qc.cx(q[3],q[4])\n",
    "    qc.cx(q[2],q[3])\n",
    "    qc.cx(q[1],q[2])\n",
    "    qc.h(q[1])\n",
    "    qc.measure(q[1],c[0])\n",
    "    qc.measure(q[2],c[1])\n",
    "    qc.measure(q[3],c[2])\n",
    "    qc.measure(q[4],c[3])\n",
    "    qc.measure(q[5],c[4])\n",
    "    qc.measure(q[6],c[5])\n",
    "    #assign the number of each qubits\n",
    "    return qc"
   ]
  },
  {
   "cell_type": "markdown",
   "metadata": {},
   "source": [
    "## By using the ancilla qubit, we can obtain the two-time correlation function by the following code (Direct-measre scenario)"
   ]
  },
  {
   "cell_type": "code",
   "execution_count": 4,
   "metadata": {},
   "outputs": [],
   "source": [
    "def Pt2t3(t):\n",
    "    q=QuantumRegister(14)\n",
    "    c=ClassicalRegister(12)\n",
    "    qc=QuantumCircuit(q,c)\n",
    "    qc.h(q[1])\n",
    "    qc.cx(q[1],q[2])\n",
    "    qc.cx(q[2],q[3])\n",
    "    qc.cx(q[3],q[4])\n",
    "    qc.cx(q[4],q[5])\n",
    "    qc.cx(q[5],q[6])\n",
    "    #create GHZ state\n",
    "    qc.cx(q[1],q[13])\n",
    "    qc.cx(q[2],q[12])\n",
    "    qc.cx(q[3],q[11])\n",
    "    qc.cx(q[4],q[10])\n",
    "    qc.cx(q[5],q[9])\n",
    "    qc.cx(q[6],q[8])\n",
    "    #q[13] q[12] q[11] q[10] q[9] q[8] are ancilla qubits\n",
    "    #they are used to measure the GHZ state containing q[1] q[2] q[3] q[4] q[5] at t2 respectively\n",
    "    qc.cx(q[5],q[6])\n",
    "    qc.cx(q[4],q[5])\n",
    "    qc.cx(q[3],q[4])\n",
    "    qc.cx(q[2],q[3])\n",
    "    qc.cx(q[1],q[2])\n",
    "    qc.h(q[1])\n",
    "    qc.measure(q[13],c[0])\n",
    "    qc.measure(q[12],c[1])\n",
    "    qc.measure(q[11],c[2])\n",
    "    qc.measure(q[10],c[3])\n",
    "    qc.measure(q[9],c[4])\n",
    "    qc.measure(q[8],c[5])\n",
    "    qc.measure(q[1],c[6])\n",
    "    qc.measure(q[2],c[7])\n",
    "    qc.measure(q[3],c[8])\n",
    "    qc.measure(q[4],c[9])\n",
    "    qc.measure(q[5],c[10])\n",
    "    qc.measure(q[6],c[11])\n",
    "    return qc"
   ]
  },
  {
   "cell_type": "markdown",
   "metadata": {},
   "source": [
    "# Running the quantum circuit by IBM and arrange the raw data"
   ]
  },
  {
   "cell_type": "code",
   "execution_count": 9,
   "metadata": {},
   "outputs": [],
   "source": [
    "A=[]\n",
    "for t in range(5):\n",
    "    job=execute(Pt3(0),simulator,shots=8192)\n",
    "    A.append(job)"
   ]
  },
  {
   "cell_type": "code",
   "execution_count": 11,
   "metadata": {},
   "outputs": [
    {
     "name": "stdout",
     "output_type": "stream",
     "text": [
      "{'000000': 8192}\n",
      "{'000000': 8192}\n",
      "{'000000': 8192}\n",
      "{'000000': 8192}\n",
      "{'000000': 8192}\n"
     ]
    }
   ],
   "source": [
    "for i in range(5):\n",
    "    print(A[i].result().get_counts())"
   ]
  },
  {
   "cell_type": "markdown",
   "metadata": {},
   "source": [
    "# pick Pt3"
   ]
  },
  {
   "cell_type": "code",
   "execution_count": 14,
   "metadata": {},
   "outputs": [],
   "source": [
    "f={}\n",
    "f[0]={'000000': 8192}\n",
    "f[1]={'000000': 8192}\n",
    "f[2]={'000000': 8192}\n",
    "f[3]={'000000': 8192}\n",
    "f[4]={'000000': 8192}"
   ]
  },
  {
   "cell_type": "code",
   "execution_count": 18,
   "metadata": {},
   "outputs": [],
   "source": [
    "import copy\n",
    "def pick_t3(g,k):\n",
    "    f=copy.deepcopy(g)\n",
    "    for i in range(len(f)):\n",
    "    #Transfre the result become probabilty form\n",
    "        for key in f[i].keys():\n",
    "            f[i][key] = f[i][key]/8192\n",
    "            if key == k:\n",
    "            # n is the data we want for Pt3\n",
    "                print(f[i][k])"
   ]
  },
  {
   "cell_type": "code",
   "execution_count": 19,
   "metadata": {},
   "outputs": [
    {
     "name": "stdout",
     "output_type": "stream",
     "text": [
      "1.0\n",
      "1.0\n",
      "1.0\n",
      "1.0\n",
      "1.0\n"
     ]
    }
   ],
   "source": [
    "pick_t3(f,'000000')"
   ]
  },
  {
   "cell_type": "markdown",
   "metadata": {},
   "source": [
    "# Get Pt2t3"
   ]
  },
  {
   "cell_type": "code",
   "execution_count": 25,
   "metadata": {},
   "outputs": [],
   "source": [
    "A=[]\n",
    "for t in range(5):\n",
    "    job=execute(Pt2t3(0),simulator,shots=8192)\n",
    "    A.append(job)"
   ]
  },
  {
   "cell_type": "code",
   "execution_count": 26,
   "metadata": {},
   "outputs": [
    {
     "name": "stdout",
     "output_type": "stream",
     "text": [
      "{'000001000000': 2066, '000001111111': 2081, '000000111111': 1987, '000000000000': 2058}\n",
      "{'000001000000': 2072, '000001111111': 2011, '000000111111': 2014, '000000000000': 2095}\n",
      "{'000001000000': 2019, '000001111111': 2084, '000000111111': 2025, '000000000000': 2064}\n",
      "{'000001000000': 2058, '000001111111': 2085, '000000111111': 1994, '000000000000': 2055}\n",
      "{'000001000000': 1991, '000001111111': 2087, '000000111111': 2024, '000000000000': 2090}\n"
     ]
    }
   ],
   "source": [
    "for i in range(5):\n",
    "    print(A[i].result().get_counts())"
   ]
  },
  {
   "cell_type": "code",
   "execution_count": 27,
   "metadata": {},
   "outputs": [],
   "source": [
    "f={}\n",
    "f[0]={'000001000000': 2066, '000001111111': 2081, '000000111111': 1987, '000000000000': 2058}\n",
    "f[1]={'000001000000': 2072, '000001111111': 2011, '000000111111': 2014, '000000000000': 2095}\n",
    "f[2]={'000001000000': 2019, '000001111111': 2084, '000000111111': 2025, '000000000000': 2064}\n",
    "f[3]={'000001000000': 2058, '000001111111': 2085, '000000111111': 1994, '000000000000': 2055}\n",
    "f[4]={'000001000000': 1991, '000001111111': 2087, '000000111111': 2024, '000000000000': 2090}"
   ]
  },
  {
   "cell_type": "code",
   "execution_count": 22,
   "metadata": {},
   "outputs": [],
   "source": [
    "import copy\n",
    "def picks(g,n,k):\n",
    "    # g is the raw data\n",
    "    # n represents the number of the entangled qubits you used\n",
    "    # k is the final_state you want from the raw data\n",
    "    effective={}\n",
    "    f=copy.deepcopy(g)\n",
    "    # we don't want the data to be changed, so we make a copy of that\n",
    "    for i in range(len(f)):\n",
    "        for key in f[i].keys():\n",
    "            f[i][key] = f[i][key]/8192\n",
    "        data=f[i].keys()\n",
    "        state=[]\n",
    "        for j in data:\n",
    "            state.append(j)\n",
    "        final_state=[u[0:n] for u in state]\n",
    "        effective_state=[]\n",
    "        for j in range(len(state)):\n",
    "            if final_state[j] == k :\n",
    "                effective_state.append(state[j])\n",
    "                    \n",
    "        effective[i]={key:f[i][key] for key in effective_state}\n",
    "        \n",
    "    return effective"
   ]
  },
  {
   "cell_type": "code",
   "execution_count": 28,
   "metadata": {
    "scrolled": true
   },
   "outputs": [
    {
     "data": {
      "text/plain": [
       "{0: {'000000111111': 0.2425537109375, '000000000000': 0.251220703125},\n",
       " 1: {'000000111111': 0.245849609375, '000000000000': 0.2557373046875},\n",
       " 2: {'000000111111': 0.2471923828125, '000000000000': 0.251953125},\n",
       " 3: {'000000111111': 0.243408203125, '000000000000': 0.2508544921875},\n",
       " 4: {'000000111111': 0.2470703125, '000000000000': 0.255126953125}}"
      ]
     },
     "execution_count": 28,
     "metadata": {},
     "output_type": "execute_result"
    }
   ],
   "source": [
    "picks(f,6,'000000')\n",
    "# the sum of data is Pt2*Pt2t3"
   ]
  },
  {
   "cell_type": "markdown",
   "metadata": {
    "collapsed": true
   },
   "source": [
    "# We can get the witness by |Pt3 - sum(Pt2*Pt2t3)|"
   ]
  },
  {
   "cell_type": "code",
   "execution_count": null,
   "metadata": {},
   "outputs": [],
   "source": []
  }
 ],
 "metadata": {
  "kernelspec": {
   "display_name": "Python 3",
   "language": "python",
   "name": "python3"
  },
  "language_info": {
   "codemirror_mode": {
    "name": "ipython",
    "version": 3
   },
   "file_extension": ".py",
   "mimetype": "text/x-python",
   "name": "python",
   "nbconvert_exporter": "python",
   "pygments_lexer": "ipython3",
   "version": "3.7.4"
  }
 },
 "nbformat": 4,
 "nbformat_minor": 2
}
