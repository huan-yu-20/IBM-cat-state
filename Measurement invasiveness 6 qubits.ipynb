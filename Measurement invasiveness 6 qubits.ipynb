{
 "cells": [
  {
   "cell_type": "code",
   "execution_count": 1,
   "metadata": {},
   "outputs": [],
   "source": [
    "from qiskit import QuantumCircuit, QuantumRegister, ClassicalRegister\n",
    "from qiskit import IBMQ, execute, Aer"
   ]
  },
  {
   "cell_type": "code",
   "execution_count": 15,
   "metadata": {},
   "outputs": [],
   "source": [
    "APItoken='your APItoken'"
   ]
  },
  {
   "cell_type": "code",
   "execution_count": 2,
   "metadata": {},
   "outputs": [
    {
     "data": {
      "text/plain": [
       "[<IBMQSimulator('ibmq_qasm_simulator') from IBMQ(hub='ibm-q', group='open', project='main')>,\n",
       " <IBMQBackend('ibmqx2') from IBMQ(hub='ibm-q', group='open', project='main')>,\n",
       " <IBMQBackend('ibmq_16_melbourne') from IBMQ(hub='ibm-q', group='open', project='main')>,\n",
       " <IBMQBackend('ibmq_vigo') from IBMQ(hub='ibm-q', group='open', project='main')>,\n",
       " <IBMQBackend('ibmq_ourense') from IBMQ(hub='ibm-q', group='open', project='main')>]"
      ]
     },
     "execution_count": 2,
     "metadata": {},
     "output_type": "execute_result"
    }
   ],
   "source": [
    "IBMQ.enable_account(APItoken)\n",
    "#enable your account\n",
    "provider=IBMQ.get_provider()\n",
    "provider.backends()"
   ]
  },
  {
   "cell_type": "code",
   "execution_count": 3,
   "metadata": {},
   "outputs": [],
   "source": [
    "backend = provider.get_backend('ibmq_16_melbourne')\n",
    "simulator=Aer.get_backend('qasm_simulator')"
   ]
  },
  {
   "cell_type": "markdown",
   "metadata": {},
   "source": [
    "## We prepare the state without coherence in the computational basis. And then obtain the probability distribution with and without the second unitary. In general, the difference between two probability is contributed by invasive measurement."
   ]
  },
  {
   "cell_type": "markdown",
   "metadata": {},
   "source": [
    "# With measurement at time t_1"
   ]
  },
  {
   "cell_type": "code",
   "execution_count": 9,
   "metadata": {},
   "outputs": [],
   "source": [
    "def Circuit_1(a):\n",
    "    q=QuantumRegister(14)\n",
    "    c=ClassicalRegister(6)\n",
    "    qc=QuantumCircuit(q,c)\n",
    "    \n",
    "    if a==0 :\n",
    "        #|000000>\n",
    "        pass\n",
    "    if a==1 :\n",
    "        #|111111>\n",
    "        qc.x(q[1])\n",
    "        qc.x(q[2])\n",
    "        qc.x(q[3])\n",
    "        qc.x(q[4])\n",
    "        qc.x(q[5])\n",
    "        qc.x(q[6])\n",
    "\n",
    "    qc.cx(q[1],q[0])\n",
    "    qc.cx(q[2],q[12])\n",
    "    qc.cx(q[3],q[11])\n",
    "    qc.cx(q[4],q[10])\n",
    "    qc.cx(q[5],q[9])\n",
    "    qc.cx(q[6],q[8])\n",
    "    qc.measure(q[1],c[0])\n",
    "    qc.measure(q[2],c[1])\n",
    "    qc.measure(q[3],c[2])\n",
    "    qc.measure(q[4],c[3])\n",
    "    qc.measure(q[5],c[4])\n",
    "    qc.measure(q[6],c[5])\n",
    "    return qc"
   ]
  },
  {
   "cell_type": "code",
   "execution_count": 10,
   "metadata": {},
   "outputs": [
    {
     "name": "stdout",
     "output_type": "stream",
     "text": [
      "t = 0\n",
      "{'000000': 8192} \n",
      "\n",
      "t = 1\n",
      "{'000000': 8192} \n",
      "\n",
      "t = 2\n",
      "{'000000': 8192} \n",
      "\n",
      "t = 3\n",
      "{'000000': 8192} \n",
      "\n",
      "t = 4\n",
      "{'000000': 8192} \n",
      "\n"
     ]
    }
   ],
   "source": [
    "qcs=[]\n",
    "# prepare circuits \n",
    "qcs = []\n",
    "for i in range(5) :\n",
    "    #run 5 times\n",
    "    qcs.append(Circuit_1(0))\n",
    "\n",
    "# execute\n",
    "job=execute(qcs,simulator,shots=8192)\n",
    "    \n",
    "# print the data\n",
    "j = 0\n",
    "for qc in qcs :\n",
    "    print(\"t =\", j)\n",
    "    print(job.result().get_counts(qc), \"\\n\")\n",
    "    j = j + 1"
   ]
  },
  {
   "cell_type": "code",
   "execution_count": 12,
   "metadata": {},
   "outputs": [
    {
     "name": "stdout",
     "output_type": "stream",
     "text": [
      "t = 0\n",
      "{'111111': 8192} \n",
      "\n",
      "t = 1\n",
      "{'111111': 8192} \n",
      "\n",
      "t = 2\n",
      "{'111111': 8192} \n",
      "\n",
      "t = 3\n",
      "{'111111': 8192} \n",
      "\n",
      "t = 4\n",
      "{'111111': 8192} \n",
      "\n"
     ]
    }
   ],
   "source": [
    "qcs=[]\n",
    "# prepare circuits \n",
    "qcs = []\n",
    "for i in range(5) :\n",
    "    #run 5 times\n",
    "    qcs.append(Circuit_1(1))\n",
    "\n",
    "# execute\n",
    "job=execute(qcs,simulator,shots=8192)\n",
    "    \n",
    "# print the data\n",
    "j = 0\n",
    "for qc in qcs :\n",
    "    print(\"t =\", j)\n",
    "    print(job.result().get_counts(qc), \"\\n\")\n",
    "    j = j + 1"
   ]
  },
  {
   "cell_type": "markdown",
   "metadata": {},
   "source": [
    "# Without measurement at time t_1"
   ]
  },
  {
   "cell_type": "code",
   "execution_count": 11,
   "metadata": {},
   "outputs": [],
   "source": [
    "def Circuit_2(a):\n",
    "    q=QuantumRegister(7)\n",
    "    c=ClassicalRegister(6)\n",
    "    qc=QuantumCircuit(q,c)\n",
    "    \n",
    "    if a==0 :\n",
    "        #|000000>\n",
    "        pass\n",
    "    if a==1 :\n",
    "        #|111111>\n",
    "        qc.x(q[1])\n",
    "        qc.x(q[2])\n",
    "        qc.x(q[3])\n",
    "        qc.x(q[4])\n",
    "        qc.x(q[5])\n",
    "        qc.x(q[6])\n",
    "    \n",
    "    qc.measure(q[1],c[0])\n",
    "    qc.measure(q[2],c[1])\n",
    "    qc.measure(q[3],c[2])\n",
    "    qc.measure(q[4],c[3])\n",
    "    qc.measure(q[5],c[4])\n",
    "    qc.measure(q[6],c[5])\n",
    "    return qc"
   ]
  },
  {
   "cell_type": "code",
   "execution_count": 13,
   "metadata": {},
   "outputs": [
    {
     "name": "stdout",
     "output_type": "stream",
     "text": [
      "t = 0\n",
      "{'000000': 8192} \n",
      "\n",
      "t = 1\n",
      "{'000000': 8192} \n",
      "\n",
      "t = 2\n",
      "{'000000': 8192} \n",
      "\n",
      "t = 3\n",
      "{'000000': 8192} \n",
      "\n",
      "t = 4\n",
      "{'000000': 8192} \n",
      "\n"
     ]
    }
   ],
   "source": [
    "qcs=[]\n",
    "# prepare circuits \n",
    "qcs = []\n",
    "for i in range(5) :\n",
    "    #run 5 times\n",
    "    qcs.append(Circuit_2(0))\n",
    "\n",
    "# execute\n",
    "job=execute(qcs,simulator,shots=8192)\n",
    "    \n",
    "# print the data\n",
    "j = 0\n",
    "for qc in qcs :\n",
    "    print(\"t =\", j)\n",
    "    print(job.result().get_counts(qc), \"\\n\")\n",
    "    j = j + 1"
   ]
  },
  {
   "cell_type": "code",
   "execution_count": 14,
   "metadata": {
    "scrolled": true
   },
   "outputs": [
    {
     "name": "stdout",
     "output_type": "stream",
     "text": [
      "t = 0\n",
      "{'111111': 8192} \n",
      "\n",
      "t = 1\n",
      "{'111111': 8192} \n",
      "\n",
      "t = 2\n",
      "{'111111': 8192} \n",
      "\n",
      "t = 3\n",
      "{'111111': 8192} \n",
      "\n",
      "t = 4\n",
      "{'111111': 8192} \n",
      "\n"
     ]
    }
   ],
   "source": [
    "qcs=[]\n",
    "# prepare circuits \n",
    "qcs = []\n",
    "for i in range(5) :\n",
    "    #run 5 times\n",
    "    qcs.append(Circuit_2(1))\n",
    "\n",
    "# execute\n",
    "job=execute(qcs,simulator,shots=8192)\n",
    "    \n",
    "# print the data\n",
    "j = 0\n",
    "for qc in qcs :\n",
    "    print(\"t =\", j)\n",
    "    print(job.result().get_counts(qc), \"\\n\")\n",
    "    j = j + 1"
   ]
  },
  {
   "cell_type": "markdown",
   "metadata": {},
   "source": [
    "# Calculate the Witness"
   ]
  },
  {
   "cell_type": "markdown",
   "metadata": {},
   "source": [
    "## After we collect and organize the data , we can calculate the witness"
   ]
  },
  {
   "cell_type": "markdown",
   "metadata": {},
   "source": [
    "## We can use the code below to calculate"
   ]
  },
  {
   "cell_type": "code",
   "execution_count": 18,
   "metadata": {},
   "outputs": [],
   "source": [
    "def witness(a,b,k) :\n",
    "    from copy import deepcopy\n",
    "    A=deepcopy(a)\n",
    "    B=deepcopy(b)\n",
    "    # a and b are raw data\n",
    "    # we don't want the data to be changed, so we make a copy of that\n",
    "    # k = '000000'\n",
    "    for i in range(len(A)):\n",
    "        for j in range(len(B)):\n",
    "            C=abs(A[i][k]-B[j][k])\n",
    "            C=C/8192\n",
    "            print(C)"
   ]
  },
  {
   "cell_type": "code",
   "execution_count": 28,
   "metadata": {},
   "outputs": [],
   "source": [
    "A1={}\n",
    "A1[0]={'000110': 30, '011010': 3, '110001': 14, '000101': 34, '100011': 304, '110101': 2, '000010': 1358, '001101': 1, '010100': 10, '010010': 79, '100101': 8, '101100': 2, '100110': 8, '001010': 50, '101001': 27, '000001': 1372, '111101': 1, '111001': 1, '000100': 48, '111000': 2, '010000': 74, '101000': 31, '100100': 9, '001001': 46, '001000': 82, '010011': 57, '100010': 390, '101010': 19, '111010': 1, '010110': 4, '000111': 21, '010111': 4, '110010': 20, '001111': 1, '010001': 64, '110000': 38, '001110': 1, '011011': 3, '000000': 1962, '010101': 2, '000011': 936, '100001': 406, '110100': 1, '011000': 8, '001011': 35, '101011': 18, '001100': 2, '111011': 1, '110011': 21, '111111': 1, '011001': 2, '110110': 2, '100111': 9, '100000': 567}\n",
    "A1[1]={'000110': 29, '011010': 6, '110001': 32, '000101': 27, '100011': 291, '110101': 4, '000010': 1130, '001101': 4, '010100': 5, '010010': 65, '100101': 8, '101100': 4, '100110': 11, '001010': 75, '101001': 32, '000001': 1395, '111101': 1, '111001': 1, '000100': 54, '111000': 1, '010000': 104, '101000': 47, '011100': 1, '100100': 16, '001001': 86, '001000': 119, '010011': 44, '100010': 316, '101010': 22, '110111': 3, '010110': 6, '000111': 29, '010111': 8, '110010': 16, '001111': 1, '010001': 70, '110000': 30, '101101': 1, '001110': 1, '011011': 4, '000000': 1995, '010101': 6, '000011': 865, '100001': 489, '110100': 1, '011000': 7, '001011': 53, '101011': 25, '001100': 3, '110011': 11, '111111': 1, '011001': 5, '100111': 8, '100000': 624}\n",
    "A1[2]={'000110': 32, '011010': 1, '110001': 31, '000101': 24, '100011': 311, '110101': 1, '000010': 1102, '001101': 3, '101110': 1, '010100': 6, '010010': 89, '100101': 6, '101100': 1, '100110': 3, '001010': 65, '101001': 41, '000001': 1442, '111000': 3, '000100': 40, '111001': 4, '101111': 1, '010000': 115, '101000': 37, '100100': 11, '001001': 90, '001000': 133, '010011': 60, '100010': 346, '101010': 20, '111010': 4, '010110': 4, '000111': 23, '010111': 1, '110010': 23, '010001': 72, '110000': 24, '101101': 1, '011011': 6, '000000': 2002, '010101': 5, '000011': 882, '100001': 461, '110100': 1, '011000': 8, '001011': 46, '101011': 13, '110011': 17, '111111': 1, '011001': 9, '110110': 2, '100111': 10, '100000': 558}\n",
    "A1[3]={'000110': 34, '011010': 4, '110001': 17, '011101': 1, '000101': 29, '100011': 273, '110101': 6, '000010': 1307, '001101': 4, '101110': 1, '010100': 3, '010010': 74, '100101': 8, '011110': 2, '100110': 17, '001010': 66, '101001': 38, '000001': 1287, '111000': 1, '000100': 55, '111001': 1, '101111': 2, '010000': 107, '101000': 47, '100100': 18, '001001': 66, '001000': 79, '010011': 60, '100010': 367, '101010': 35, '110111': 3, '011111': 1, '111010': 2, '010110': 10, '000111': 30, '010111': 11, '110010': 25, '001111': 3, '010001': 68, '110000': 31, '101101': 2, '001110': 2, '011011': 2, '000000': 1966, '010101': 5, '000011': 929, '100001': 368, '110100': 4, '011000': 3, '001011': 52, '101011': 22, '001100': 1, '111011': 3, '110011': 20, '111111': 3, '011001': 2, '110110': 5, '100111': 10, '111110': 2, '100000': 598}\n",
    "A1[4]={'000110': 25, '011010': 5, '110001': 25, '000101': 27, '100011': 307, '110101': 2, '000010': 1096, '001101': 2, '101110': 1, '010100': 10, '010010': 76, '100101': 11, '101100': 2, '100110': 11, '001010': 69, '101001': 40, '000001': 1471, '111001': 1, '000100': 44, '010000': 102, '101111': 1, '101000': 34, '100100': 14, '001001': 88, '001000': 106, '010011': 48, '100010': 345, '101010': 23, '110111': 1, '010110': 8, '000111': 31, '010111': 2, '110010': 16, '010001': 74, '111100': 1, '110000': 29, '101101': 1, '001110': 2, '011011': 3, '000000': 1932, '010101': 4, '000011': 871, '100001': 520, '110100': 1, '011000': 4, '001011': 58, '101011': 21, '001100': 5, '111011': 1, '110011': 10, '111111': 1, '011001': 10, '110110': 1, '100111': 5, '100000': 594}"
   ]
  },
  {
   "cell_type": "code",
   "execution_count": 29,
   "metadata": {},
   "outputs": [],
   "source": [
    "B1={}\n",
    "B1[0]={'000110': 1, '000101': 104, '010001': 8, '000010': 8, '001101': 1, '110000': 5, '000000': 6177, '010100': 9, '100101': 1, '101100': 1, '000011': 1, '100001': 22, '110100': 1, '011000': 2, '101001': 1, '001100': 9, '000001': 989, '010000': 42, '000100': 554, '111111': 1, '100100': 22, '001001': 30, '101000': 2, '001000': 116, '100000': 85}\n",
    "B1[1]={'000110': 7, '000111': 1, '000101': 111, '010001': 6, '000010': 28, '001101': 5, '110000': 1, '000000': 5953, '010100': 9, '100101': 2, '010101': 2, '000011': 4, '100001': 17, '110100': 1, '001010': 1, '101001': 1, '001100': 12, '000001': 1144, '010000': 47, '000100': 564, '011100': 1, '100100': 16, '001001': 29, '101000': 2, '001000': 120, '100010': 1, '111110': 1, '100000': 106}\n",
    "B1[2]={'000110': 3, '110001': 2, '000101': 85, '010001': 11, '000010': 14, '001101': 1, '110000': 1, '000000': 6028, '010100': 8, '100101': 6, '101100': 1, '000011': 1, '100001': 23, '010101': 1, '001100': 10, '000001': 1106, '010000': 49, '000100': 584, '111111': 1, '011100': 1, '100100': 23, '001001': 29, '101000': 2, '001000': 109, '100000': 93}\n",
    "B1[3]={'000110': 5, '110001': 1, '000111': 3, '000101': 105, '010001': 9, '000010': 48, '001101': 2, '110000': 10, '000000': 6086, '010100': 15, '010010': 1, '100101': 2, '101100': 1, '000011': 7, '100001': 16, '110100': 3, '001010': 1, '001100': 10, '000001': 919, '010000': 66, '000100': 610, '111111': 1, '011001': 1, '011100': 1, '100100': 20, '001001': 28, '101000': 2, '001000': 97, '100010': 3, '100000': 119}\n",
    "B1[4]={'000110': 1, '110001': 1, '000101': 99, '010001': 17, '000010': 14, '001101': 6, '110000': 7, '000000': 6156, '010100': 17, '010101': 1, '000011': 1, '100001': 16, '110100': 2, '011000': 1, '001010': 1, '001100': 13, '111011': 1, '000001': 903, '010000': 78, '000100': 572, '011001': 2, '100100': 14, '001001': 35, '001000': 131, '100000': 103}"
   ]
  },
  {
   "cell_type": "code",
   "execution_count": 30,
   "metadata": {},
   "outputs": [
    {
     "name": "stdout",
     "output_type": "stream",
     "text": [
      "0.5145263671875\n",
      "0.4871826171875\n",
      "0.496337890625\n",
      "0.50341796875\n",
      "0.511962890625\n",
      "0.510498046875\n",
      "0.483154296875\n",
      "0.4923095703125\n",
      "0.4993896484375\n",
      "0.5079345703125\n",
      "0.5096435546875\n",
      "0.4822998046875\n",
      "0.491455078125\n",
      "0.49853515625\n",
      "0.507080078125\n",
      "0.5140380859375\n",
      "0.4866943359375\n",
      "0.495849609375\n",
      "0.5029296875\n",
      "0.511474609375\n",
      "0.5181884765625\n",
      "0.4908447265625\n",
      "0.5\n",
      "0.507080078125\n",
      "0.515625\n"
     ]
    }
   ],
   "source": [
    "witness(A1,B1,'000000')"
   ]
  }
 ],
 "metadata": {
  "kernelspec": {
   "display_name": "Python 3",
   "language": "python",
   "name": "python3"
  },
  "language_info": {
   "codemirror_mode": {
    "name": "ipython",
    "version": 3
   },
   "file_extension": ".py",
   "mimetype": "text/x-python",
   "name": "python",
   "nbconvert_exporter": "python",
   "pygments_lexer": "ipython3",
   "version": "3.7.1"
  }
 },
 "nbformat": 4,
 "nbformat_minor": 2
}
